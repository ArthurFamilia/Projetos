{
 "cells": [
  {
   "cell_type": "code",
   "execution_count": null,
   "metadata": {},
   "outputs": [
    {
     "name": "stdout",
     "output_type": "stream",
     "text": [
      "4026    136.229\n",
      "4027    136.217\n",
      "4028    136.217\n",
      "4029    136.752\n",
      "4030    135.826\n",
      "         ...   \n",
      "4555    147.145\n",
      "4556    147.716\n",
      "4557    148.185\n",
      "4558    147.714\n",
      "4559    148.621\n",
      "Name: Close, Length: 309, dtype: float64\n"
     ]
    },
    {
     "name": "stderr",
     "output_type": "stream",
     "text": [
      "C:\\Users\\Arthur Age\\AppData\\Local\\Temp\\ipykernel_12008\\2874680897.py:17: SettingWithCopyWarning: \n",
      "A value is trying to be set on a copy of a slice from a DataFrame.\n",
      "Try using .loc[row_indexer,col_indexer] = value instead\n",
      "\n",
      "See the caveats in the documentation: https://pandas.pydata.org/pandas-docs/stable/user_guide/indexing.html#returning-a-view-versus-a-copy\n",
      "  df_filtered['ADX'] = ta.trend.adx(df_filtered['High'], df_filtered['Low'], df_filtered['Close'], window=14)\n"
     ]
    }
   ],
   "source": [
    "import pandas as pd\n",
    "import ta\n",
    "\n",
    "# Substitua 'caminho_do_arquivo.csv' pelo caminho do seu arquivo CSV\n",
    "caminho_do_arquivo = \"C:/Users/Arthur Age/Desktop/USDJPYDaily.csv\"\n",
    "\n",
    "# Lê o arquivo CSV\n",
    "df = pd.read_csv(caminho_do_arquivo)\n",
    "\n",
    "# Converte a coluna de data para datetime\n",
    "df['Date'] = pd.to_datetime(df['Date'])\n",
    "\n",
    "# Filtra os anos de 2023 a 2025\n",
    "df_filtered = df[(df['Date'].dt.year >= 2023) & (df['Date'].dt.year <= 2025)]\n",
    "\n",
    "# Calcula o índice direcional médio de 14 períodos (ADX)\n",
    "df_filtered['ADX'] = ta.trend.adx(df_filtered['High'], df_filtered['Low'], df_filtered['Close'], window=14)\n",
    "\n",
    "# Filtra os valores da coluna 'Close' que são maiores que 25 no ADX\n",
    "result = df_filtered[df_filtered['ADX'] > 25]['Close']\n",
    "\n",
    "# Exibe o resultado\n",
    "print(result)"
   ]
  },
  {
   "cell_type": "code",
   "execution_count": null,
   "metadata": {},
   "outputs": [],
   "source": []
  }
 ],
 "metadata": {
  "kernelspec": {
   "display_name": "base",
   "language": "python",
   "name": "python3"
  },
  "language_info": {
   "codemirror_mode": {
    "name": "ipython",
    "version": 3
   },
   "file_extension": ".py",
   "mimetype": "text/x-python",
   "name": "python",
   "nbconvert_exporter": "python",
   "pygments_lexer": "ipython3",
   "version": "3.12.7"
  }
 },
 "nbformat": 4,
 "nbformat_minor": 2
}
