{
 "cells": [
  {
   "cell_type": "code",
   "execution_count": 10,
   "metadata": {},
   "outputs": [
    {
     "name": "stdout",
     "output_type": "stream",
     "text": [
      "      2007.08.24  116.30000  116.44000  115.51000  116.42000  16495  0\n",
      "0     2007.08.27    116.390    116.720    115.550    115.660   9298  0\n",
      "1     2007.08.28    115.650    115.750    114.100    114.130  15928  0\n",
      "2     2007.08.29    114.140    116.220    113.860    116.100  19479  0\n",
      "3     2007.08.30    116.070    116.080    115.200    115.830  17680  0\n",
      "4     2007.08.31    115.850    116.590    115.490    115.750  16831  0\n",
      "...          ...        ...        ...        ...        ...    ... ..\n",
      "4560  2025.03.18    149.135    149.935    149.095    149.230  59818  0\n",
      "4561  2025.03.19    149.232    150.146    148.597    148.795  53212  0\n",
      "4562  2025.03.20    148.794    148.960    148.180    148.757  58417  0\n",
      "4563  2025.03.21    148.759    149.661    148.585    149.298  56262  0\n",
      "4564  2025.03.24    149.347    149.951    149.347    149.775  37296  0\n",
      "\n",
      "[4565 rows x 7 columns]\n"
     ]
    }
   ],
   "source": [
    "import pandas as pd\n",
    "\n",
    "# Substitua 'caminho_do_arquivo.csv' pelo caminho do seu arquivo CSV\n",
    "caminho_do_arquivo = \"C:/Users/Arthur Age/Desktop/USDJPYDaily.csv\"\n",
    "\n",
    "# Lê o arquivo CSV\n",
    "df = pd.read_csv(caminho_do_arquivo)\n",
    "\n",
    "# Exibe as primeiras linhas do DataFrame\n",
    "print(df)"
   ]
  }
 ],
 "metadata": {
  "kernelspec": {
   "display_name": "base",
   "language": "python",
   "name": "python3"
  },
  "language_info": {
   "codemirror_mode": {
    "name": "ipython",
    "version": 3
   },
   "file_extension": ".py",
   "mimetype": "text/x-python",
   "name": "python",
   "nbconvert_exporter": "python",
   "pygments_lexer": "ipython3",
   "version": "3.12.7"
  }
 },
 "nbformat": 4,
 "nbformat_minor": 2
}
