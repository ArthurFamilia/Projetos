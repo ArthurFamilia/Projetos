{
 "cells": [
  {
   "cell_type": "code",
   "execution_count": 23,
   "metadata": {},
   "outputs": [
    {
     "name": "stdout",
     "output_type": "stream",
     "text": [
      "4026    136.229\n",
      "4027    136.217\n",
      "4028    136.217\n",
      "4029    136.752\n",
      "4030    135.826\n",
      "         ...   \n",
      "4555    147.145\n",
      "4556    147.716\n",
      "4557    148.185\n",
      "4558    147.714\n",
      "4559    148.621\n",
      "Name: Close, Length: 309, dtype: float64\n"
     ]
    },
    {
     "name": "stderr",
     "output_type": "stream",
     "text": [
      "C:\\Users\\Arthur Age\\AppData\\Local\\Temp\\ipykernel_12008\\2874680897.py:17: SettingWithCopyWarning: \n",
      "A value is trying to be set on a copy of a slice from a DataFrame.\n",
      "Try using .loc[row_indexer,col_indexer] = value instead\n",
      "\n",
      "See the caveats in the documentation: https://pandas.pydata.org/pandas-docs/stable/user_guide/indexing.html#returning-a-view-versus-a-copy\n",
      "  df_filtered['ADX'] = ta.trend.adx(df_filtered['High'], df_filtered['Low'], df_filtered['Close'], window=14)\n"
     ]
    }
   ],
   "source": [
    "import pandas as pd\n",
    "import ta\n",
    "\n",
    "# Substitua 'caminho_do_arquivo.csv' pelo caminho do seu arquivo CSV\n",
    "caminho_do_arquivo = \"C:/Users/Arthur Age/Desktop/USDJPYDaily.csv\"\n",
    "\n",
    "# Lê o arquivo CSV\n",
    "df = pd.read_csv(caminho_do_arquivo)\n",
    "\n",
    "# Converte a coluna de data para datetime\n",
    "df['Date'] = pd.to_datetime(df['Date'])\n",
    "\n",
    "# Filtra os anos de 2023 a 2025\n",
    "df_filtered = df[(df['Date'].dt.year >= 2023) & (df['Date'].dt.year <= 2025)]\n",
    "\n",
    "# Calcula o índice direcional médio de 14 períodos (ADX)\n",
    "df_filtered['ADX'] = ta.trend.adx(df_filtered['High'], df_filtered['Low'], df_filtered['Close'], window=14)\n",
    "\n",
    "# Filtra os valores da coluna 'Close' que são maiores que 25 no ADX\n",
    "result = df_filtered[df_filtered['ADX'] > 25]['Close']\n",
    "\n",
    "# Exibe o resultado\n",
    "print(result)"
   ]
  },
  {
   "cell_type": "code",
   "execution_count": 24,
   "metadata": {
    "vscode": {
     "languageId": "ruby"
    }
   },
   "outputs": [
    {
     "name": "stdout",
     "output_type": "stream",
     "text": [
      "           Date    Close  Stop  Gain\n",
      "3986 2023-01-02  130.668   NaN   NaN\n",
      "3987 2023-01-03  131.011   NaN   NaN\n",
      "3988 2023-01-04  132.621   NaN   NaN\n",
      "3989 2023-01-05  133.402   NaN   NaN\n",
      "3990 2023-01-06  132.138   NaN   NaN\n",
      "...         ...      ...   ...   ...\n",
      "4561 2025-03-18  149.230   NaN   NaN\n",
      "4562 2025-03-19  148.795   NaN   NaN\n",
      "4563 2025-03-20  148.757   NaN   NaN\n",
      "4564 2025-03-21  149.298   NaN   NaN\n",
      "4565 2025-03-24  149.775   NaN   NaN\n",
      "\n",
      "[580 rows x 4 columns]\n"
     ]
    },
    {
     "name": "stderr",
     "output_type": "stream",
     "text": [
      "C:\\Users\\Arthur Age\\AppData\\Local\\Temp\\ipykernel_12008\\2848778879.py:17: SettingWithCopyWarning: \n",
      "A value is trying to be set on a copy of a slice from a DataFrame.\n",
      "Try using .loc[row_indexer,col_indexer] = value instead\n",
      "\n",
      "See the caveats in the documentation: https://pandas.pydata.org/pandas-docs/stable/user_guide/indexing.html#returning-a-view-versus-a-copy\n",
      "  df_filtered['ADX'] = ta.trend.adx(df_filtered['High'], df_filtered['Low'], df_filtered['Close'], window=14)\n",
      "C:\\Users\\Arthur Age\\AppData\\Local\\Temp\\ipykernel_12008\\2848778879.py:23: SettingWithCopyWarning: \n",
      "A value is trying to be set on a copy of a slice from a DataFrame.\n",
      "Try using .loc[row_indexer,col_indexer] = value instead\n",
      "\n",
      "See the caveats in the documentation: https://pandas.pydata.org/pandas-docs/stable/user_guide/indexing.html#returning-a-view-versus-a-copy\n",
      "  df_filtered['TR'] = ta.volatility.average_true_range(df_filtered['High'], df_filtered['Low'], df_filtered['Close'], window=10)\n",
      "C:\\Users\\Arthur Age\\AppData\\Local\\Temp\\ipykernel_12008\\2848778879.py:26: SettingWithCopyWarning: \n",
      "A value is trying to be set on a copy of a slice from a DataFrame.\n",
      "Try using .loc[row_indexer,col_indexer] = value instead\n",
      "\n",
      "See the caveats in the documentation: https://pandas.pydata.org/pandas-docs/stable/user_guide/indexing.html#returning-a-view-versus-a-copy\n",
      "  df_filtered['Stop'] = filtered_close - 1.5 * df_filtered['TR']\n",
      "C:\\Users\\Arthur Age\\AppData\\Local\\Temp\\ipykernel_12008\\2848778879.py:27: SettingWithCopyWarning: \n",
      "A value is trying to be set on a copy of a slice from a DataFrame.\n",
      "Try using .loc[row_indexer,col_indexer] = value instead\n",
      "\n",
      "See the caveats in the documentation: https://pandas.pydata.org/pandas-docs/stable/user_guide/indexing.html#returning-a-view-versus-a-copy\n",
      "  df_filtered['Gain'] = filtered_close + 4 * df_filtered['TR']\n"
     ]
    }
   ],
   "source": [
    "import pandas as pd\n",
    "import ta\n",
    "\n",
    "# Substitua 'caminho_do_arquivo.csv' pelo caminho do seu arquivo CSV\n",
    "caminho_do_arquivo = \"C:/Users/Arthur Age/Desktop/USDJPYDaily.csv\"\n",
    "\n",
    "# Lê o arquivo CSV\n",
    "df = pd.read_csv(caminho_do_arquivo)\n",
    "\n",
    "# Converte a coluna de data para datetime\n",
    "df['Date'] = pd.to_datetime(df['Date'])\n",
    "\n",
    "# Filtra os anos de 2023 a 2025\n",
    "df_filtered = df[(df['Date'].dt.year >= 2023) & (df['Date'].dt.year <= 2025)]\n",
    "\n",
    "# Calcula o índice direcional médio de 14 períodos (ADX)\n",
    "df_filtered['ADX'] = ta.trend.adx(df_filtered['High'], df_filtered['Low'], df_filtered['Close'], window=14)\n",
    "\n",
    "# Filtra os valores da coluna 'Close' que são maiores que 25 no ADX\n",
    "filtered_close = df_filtered[df_filtered['ADX'] > 25]['Close']\n",
    "\n",
    "# Calcula o True Range (TR) de 10 períodos\n",
    "df_filtered['TR'] = ta.volatility.average_true_range(df_filtered['High'], df_filtered['Low'], df_filtered['Close'], window=10)\n",
    "\n",
    "# Calcula o stop e o gain\n",
    "df_filtered['Stop'] = filtered_close - 1.5 * df_filtered['TR']\n",
    "df_filtered['Gain'] = filtered_close + 4 * df_filtered['TR']\n",
    "\n",
    "# Exibe o resultado\n",
    "result = df_filtered[['Date', 'Close', 'Stop', 'Gain']]\n",
    "print(result)"
   ]
  },
  {
   "cell_type": "code",
   "execution_count": null,
   "metadata": {
    "vscode": {
     "languageId": "ruby"
    }
   },
   "outputs": [],
   "source": []
  },
  {
   "cell_type": "code",
   "execution_count": 27,
   "metadata": {},
   "outputs": [
    {
     "name": "stderr",
     "output_type": "stream",
     "text": [
      "C:\\Users\\Arthur Age\\AppData\\Local\\Temp\\ipykernel_12008\\466490865.py:17: SettingWithCopyWarning: \n",
      "A value is trying to be set on a copy of a slice from a DataFrame.\n",
      "Try using .loc[row_indexer,col_indexer] = value instead\n",
      "\n",
      "See the caveats in the documentation: https://pandas.pydata.org/pandas-docs/stable/user_guide/indexing.html#returning-a-view-versus-a-copy\n",
      "  df_filtered['ADX'] = ta.trend.adx(df_filtered['High'], df_filtered['Low'], df_filtered['Close'], window=14)\n",
      "C:\\Users\\Arthur Age\\AppData\\Local\\Temp\\ipykernel_12008\\466490865.py:23: SettingWithCopyWarning: \n",
      "A value is trying to be set on a copy of a slice from a DataFrame.\n",
      "Try using .loc[row_indexer,col_indexer] = value instead\n",
      "\n",
      "See the caveats in the documentation: https://pandas.pydata.org/pandas-docs/stable/user_guide/indexing.html#returning-a-view-versus-a-copy\n",
      "  df_filtered['TR'] = ta.volatility.average_true_range(df_filtered['High'], df_filtered['Low'], df_filtered['Close'], window=10)\n",
      "C:\\Users\\Arthur Age\\AppData\\Local\\Temp\\ipykernel_12008\\466490865.py:26: SettingWithCopyWarning: \n",
      "A value is trying to be set on a copy of a slice from a DataFrame.\n",
      "Try using .loc[row_indexer,col_indexer] = value instead\n",
      "\n",
      "See the caveats in the documentation: https://pandas.pydata.org/pandas-docs/stable/user_guide/indexing.html#returning-a-view-versus-a-copy\n",
      "  df_filtered['Stop'] = filtered_close - 1.5 * df_filtered['TR']\n",
      "C:\\Users\\Arthur Age\\AppData\\Local\\Temp\\ipykernel_12008\\466490865.py:27: SettingWithCopyWarning: \n",
      "A value is trying to be set on a copy of a slice from a DataFrame.\n",
      "Try using .loc[row_indexer,col_indexer] = value instead\n",
      "\n",
      "See the caveats in the documentation: https://pandas.pydata.org/pandas-docs/stable/user_guide/indexing.html#returning-a-view-versus-a-copy\n",
      "  df_filtered['Gain'] = filtered_close + 4 * df_filtered['TR']\n"
     ]
    }
   ],
   "source": [
    "import pandas as pd\n",
    "import ta\n",
    "\n",
    "# Substitua 'caminho_do_arquivo.csv' pelo caminho do seu arquivo CSV\n",
    "caminho_do_arquivo = \"C:/Users/Arthur Age/Desktop/USDJPYDaily.csv\"\n",
    "\n",
    "# Lê o arquivo CSV\n",
    "df = pd.read_csv(caminho_do_arquivo)\n",
    "\n",
    "# Converte a coluna de data para datetime\n",
    "df['Date'] = pd.to_datetime(df['Date'])\n",
    "\n",
    "# Filtra os anos de 2023 a 2025\n",
    "df_filtered = df[(df['Date'].dt.year >= 2023) & (df['Date'].dt.year <= 2025)]\n",
    "\n",
    "# Calcula o índice direcional médio de 14 períodos (ADX)\n",
    "df_filtered['ADX'] = ta.trend.adx(df_filtered['High'], df_filtered['Low'], df_filtered['Close'], window=14)\n",
    "\n",
    "# Filtra os valores da coluna 'Close' que são maiores que 25 no ADX\n",
    "filtered_close = df_filtered[df_filtered['ADX'] > 25]['Close']\n",
    "\n",
    "# Calcula o True Range (TR) de 10 períodos\n",
    "df_filtered['TR'] = ta.volatility.average_true_range(df_filtered['High'], df_filtered['Low'], df_filtered['Close'], window=10)\n",
    "\n",
    "# Calcula o stop e o gain\n",
    "df_filtered['Stop'] = filtered_close - 1.5 * df_filtered['TR']\n",
    "df_filtered['Gain'] = filtered_close + 4 * df_filtered['TR']\n",
    "\n",
    "# Exibe o resultado\n",
    "result = df_filtered[['Date', 'Close', 'Stop', 'Gain']]\n",
    "\n",
    "# Salva as primeiras 200 linhas em um arquivo JSON\n",
    "result.to_json(\"resultado.json\", orient=\"records\", date_format=\"iso\")\n"
   ]
  }
 ],
 "metadata": {
  "kernelspec": {
   "display_name": "base",
   "language": "python",
   "name": "python3"
  },
  "language_info": {
   "codemirror_mode": {
    "name": "ipython",
    "version": 3
   },
   "file_extension": ".py",
   "mimetype": "text/x-python",
   "name": "python",
   "nbconvert_exporter": "python",
   "pygments_lexer": "ipython3",
   "version": "3.12.7"
  }
 },
 "nbformat": 4,
 "nbformat_minor": 2
}
